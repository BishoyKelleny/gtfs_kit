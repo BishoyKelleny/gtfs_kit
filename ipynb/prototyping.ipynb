{
 "cells": [
  {
   "cell_type": "code",
   "execution_count": 12,
   "metadata": {},
   "outputs": [
    {
     "name": "stdout",
     "output_type": "stream",
     "text": [
      "The autoreload extension is already loaded. To reload it, use:\n",
      "  %reload_ext autoreload\n"
     ]
    }
   ],
   "source": [
    "import datetime as dt\n",
    "from collections import OrderedDict\n",
    "import sys, os\n",
    "import dateutil.relativedelta as rd\n",
    "import json\n",
    "from pathlib import Path\n",
    "\n",
    "import utm\n",
    "import pandas as pd\n",
    "import numpy as np\n",
    "import shapely.geometry as sg\n",
    "import shapely.ops as so\n",
    "\n",
    "DIR = Path('..')\n",
    "sys.path.append(str(DIR))\n",
    "\n",
    "import gtfs_kit as gk\n",
    "\n",
    "%load_ext autoreload\n",
    "%autoreload 2\n",
    "\n",
    "DATA_DIR = DIR/'data'"
   ]
  },
  {
   "cell_type": "code",
   "execution_count": 13,
   "metadata": {},
   "outputs": [],
   "source": [
    "path = DATA_DIR/'cairns_gtfs.zip'\n",
    "feed = gk.read_gtfs(path, dist_units='km')\n"
   ]
  },
  {
   "cell_type": "code",
   "execution_count": 14,
   "metadata": {},
   "outputs": [
    {
     "name": "stdout",
     "output_type": "stream",
     "text": [
      "0    CNS2014-CNS_MUL-Weekday-00-4165878\n",
      "1    CNS2014-CNS_MUL-Weekday-00-4165879\n",
      "Name: trip_id, dtype: object\n"
     ]
    },
    {
     "data": {
      "text/html": [
       "<div>\n",
       "<style scoped>\n",
       "    .dataframe tbody tr th:only-of-type {\n",
       "        vertical-align: middle;\n",
       "    }\n",
       "\n",
       "    .dataframe tbody tr th {\n",
       "        vertical-align: top;\n",
       "    }\n",
       "\n",
       "    .dataframe thead th {\n",
       "        text-align: right;\n",
       "    }\n",
       "</style>\n",
       "<table border=\"1\" class=\"dataframe\">\n",
       "  <thead>\n",
       "    <tr style=\"text-align: right;\">\n",
       "      <th></th>\n",
       "      <th>stop_id</th>\n",
       "      <th>stop_code</th>\n",
       "      <th>stop_name</th>\n",
       "      <th>stop_desc</th>\n",
       "      <th>zone_id</th>\n",
       "      <th>stop_url</th>\n",
       "      <th>location_type</th>\n",
       "      <th>parent_station</th>\n",
       "      <th>geometry</th>\n",
       "    </tr>\n",
       "  </thead>\n",
       "  <tbody>\n",
       "    <tr>\n",
       "      <td>0</td>\n",
       "      <td>750000</td>\n",
       "      <td>NaN</td>\n",
       "      <td>Cedar Rd (Palm Cove) - Hail and Ride Location</td>\n",
       "      <td>NaN</td>\n",
       "      <td>NaN</td>\n",
       "      <td>NaN</td>\n",
       "      <td>0</td>\n",
       "      <td>NaN</td>\n",
       "      <td>POINT (145.668217 -16.74359)</td>\n",
       "    </tr>\n",
       "    <tr>\n",
       "      <td>1</td>\n",
       "      <td>750001</td>\n",
       "      <td>NaN</td>\n",
       "      <td>Williams Esplanade N201</td>\n",
       "      <td>NaN</td>\n",
       "      <td>NaN</td>\n",
       "      <td>NaN</td>\n",
       "      <td>0</td>\n",
       "      <td>NaN</td>\n",
       "      <td>POINT (145.67111 -16.744015)</td>\n",
       "    </tr>\n",
       "    <tr>\n",
       "      <td>2</td>\n",
       "      <td>750002</td>\n",
       "      <td>NaN</td>\n",
       "      <td>Talpa Close - Hail and Ride Location</td>\n",
       "      <td>NaN</td>\n",
       "      <td>NaN</td>\n",
       "      <td>NaN</td>\n",
       "      <td>0</td>\n",
       "      <td>NaN</td>\n",
       "      <td>POINT (145.667893 -16.749258)</td>\n",
       "    </tr>\n",
       "    <tr>\n",
       "      <td>3</td>\n",
       "      <td>750003</td>\n",
       "      <td>NaN</td>\n",
       "      <td>Veivers Road N203</td>\n",
       "      <td>NaN</td>\n",
       "      <td>NaN</td>\n",
       "      <td>NaN</td>\n",
       "      <td>0</td>\n",
       "      <td>NaN</td>\n",
       "      <td>POINT (145.663675 -16.748213)</td>\n",
       "    </tr>\n",
       "    <tr>\n",
       "      <td>4</td>\n",
       "      <td>750004</td>\n",
       "      <td>NaN</td>\n",
       "      <td>Captain Cook Hwy N3 (Cairns Tropical Zoo)</td>\n",
       "      <td>NaN</td>\n",
       "      <td>NaN</td>\n",
       "      <td>NaN</td>\n",
       "      <td>0</td>\n",
       "      <td>NaN</td>\n",
       "      <td>POINT (145.663283 -16.757931)</td>\n",
       "    </tr>\n",
       "    <tr>\n",
       "      <td>...</td>\n",
       "      <td>...</td>\n",
       "      <td>...</td>\n",
       "      <td>...</td>\n",
       "      <td>...</td>\n",
       "      <td>...</td>\n",
       "      <td>...</td>\n",
       "      <td>...</td>\n",
       "      <td>...</td>\n",
       "      <td>...</td>\n",
       "    </tr>\n",
       "    <tr>\n",
       "      <td>411</td>\n",
       "      <td>750452</td>\n",
       "      <td>NaN</td>\n",
       "      <td>The Pier Cairns - Terminus Stop B</td>\n",
       "      <td>NaN</td>\n",
       "      <td>NaN</td>\n",
       "      <td>NaN</td>\n",
       "      <td>0</td>\n",
       "      <td>NaN</td>\n",
       "      <td>POINT (145.778614 -16.920632)</td>\n",
       "    </tr>\n",
       "    <tr>\n",
       "      <td>412</td>\n",
       "      <td>750453</td>\n",
       "      <td>NaN</td>\n",
       "      <td>The Pier Cairns - Terminus Stop C</td>\n",
       "      <td>NaN</td>\n",
       "      <td>NaN</td>\n",
       "      <td>NaN</td>\n",
       "      <td>0</td>\n",
       "      <td>NaN</td>\n",
       "      <td>POINT (145.778913 -16.920741)</td>\n",
       "    </tr>\n",
       "    <tr>\n",
       "      <td>413</td>\n",
       "      <td>750454</td>\n",
       "      <td>NaN</td>\n",
       "      <td>The Pier Cairns - Terminus Stop D</td>\n",
       "      <td>NaN</td>\n",
       "      <td>NaN</td>\n",
       "      <td>NaN</td>\n",
       "      <td>0</td>\n",
       "      <td>NaN</td>\n",
       "      <td>POINT (145.77907 -16.920814)</td>\n",
       "    </tr>\n",
       "    <tr>\n",
       "      <td>414</td>\n",
       "      <td>750455</td>\n",
       "      <td>NaN</td>\n",
       "      <td>Sunbus Depot - Dunne Street</td>\n",
       "      <td>NaN</td>\n",
       "      <td>NaN</td>\n",
       "      <td>NaN</td>\n",
       "      <td>0</td>\n",
       "      <td>NaN</td>\n",
       "      <td>POINT (145.703608 -16.824684)</td>\n",
       "    </tr>\n",
       "    <tr>\n",
       "      <td>415</td>\n",
       "      <td>750456</td>\n",
       "      <td>NaN</td>\n",
       "      <td>Spence Street - Temporary Stop</td>\n",
       "      <td>NaN</td>\n",
       "      <td>NaN</td>\n",
       "      <td>NaN</td>\n",
       "      <td>0</td>\n",
       "      <td>NaN</td>\n",
       "      <td>POINT (145.777984 -16.923289)</td>\n",
       "    </tr>\n",
       "  </tbody>\n",
       "</table>\n",
       "<p>416 rows × 9 columns</p>\n",
       "</div>"
      ],
      "text/plain": [
       "    stop_id stop_code                                      stop_name  \\\n",
       "0    750000       NaN  Cedar Rd (Palm Cove) - Hail and Ride Location   \n",
       "1    750001       NaN                        Williams Esplanade N201   \n",
       "2    750002       NaN           Talpa Close - Hail and Ride Location   \n",
       "3    750003       NaN                              Veivers Road N203   \n",
       "4    750004       NaN      Captain Cook Hwy N3 (Cairns Tropical Zoo)   \n",
       "..      ...       ...                                            ...   \n",
       "411  750452       NaN              The Pier Cairns - Terminus Stop B   \n",
       "412  750453       NaN              The Pier Cairns - Terminus Stop C   \n",
       "413  750454       NaN              The Pier Cairns - Terminus Stop D   \n",
       "414  750455       NaN                    Sunbus Depot - Dunne Street   \n",
       "415  750456       NaN                 Spence Street - Temporary Stop   \n",
       "\n",
       "    stop_desc zone_id stop_url  location_type parent_station  \\\n",
       "0         NaN     NaN      NaN              0            NaN   \n",
       "1         NaN     NaN      NaN              0            NaN   \n",
       "2         NaN     NaN      NaN              0            NaN   \n",
       "3         NaN     NaN      NaN              0            NaN   \n",
       "4         NaN     NaN      NaN              0            NaN   \n",
       "..        ...     ...      ...            ...            ...   \n",
       "411       NaN     NaN      NaN              0            NaN   \n",
       "412       NaN     NaN      NaN              0            NaN   \n",
       "413       NaN     NaN      NaN              0            NaN   \n",
       "414       NaN     NaN      NaN              0            NaN   \n",
       "415       NaN     NaN      NaN              0            NaN   \n",
       "\n",
       "                          geometry  \n",
       "0     POINT (145.668217 -16.74359)  \n",
       "1     POINT (145.67111 -16.744015)  \n",
       "2    POINT (145.667893 -16.749258)  \n",
       "3    POINT (145.663675 -16.748213)  \n",
       "4    POINT (145.663283 -16.757931)  \n",
       "..                             ...  \n",
       "411  POINT (145.778614 -16.920632)  \n",
       "412  POINT (145.778913 -16.920741)  \n",
       "413   POINT (145.77907 -16.920814)  \n",
       "414  POINT (145.703608 -16.824684)  \n",
       "415  POINT (145.777984 -16.923289)  \n",
       "\n",
       "[416 rows x 9 columns]"
      ]
     },
     "metadata": {},
     "output_type": "display_data"
    },
    {
     "data": {
      "text/plain": [
       "geopandas.geodataframe.GeoDataFrame"
      ]
     },
     "execution_count": 14,
     "metadata": {},
     "output_type": "execute_result"
    }
   ],
   "source": [
    "trip_ids = feed.trips.trip_id.loc[:1]\n",
    "print(trip_ids)\n",
    "g = feed.geometrize_stops()\n",
    "display(g)\n",
    "type(g)"
   ]
  },
  {
   "cell_type": "code",
   "execution_count": null,
   "metadata": {},
   "outputs": [],
   "source": [
    "def geometrize_routes(feed, route_ids=None):\n",
    "    \"\"\"\n",
    "    \"\"\"\n",
    "    if feed.shapes is None:\n",
    "        return\n",
    "    \n",
    "    # Subset routes\n",
    "    routes = feed.routes.copy()\n",
    "    if route_ids is not None:\n",
    "        routes = routes.loc[lambda x: x.route_id.isin(route_ids)].copy()\n",
    "        \n",
    "    # Subset shapes\n",
    "    trips = feed.trips.merge(routes.filter([\"route_id\"]), how=\"right\")\n",
    "    shapes = feed.shapes.merge(trips, how=\"right\")\n",
    "\n",
    "    # Combine shape LineStrings within route and direction\n",
    "    def combine_shapes(group):\n",
    "        d = {}\n",
    "        d[\"geometry\"] = so.linemerge(group.geometry.tolist())\n",
    "        return pd.Series(d)\n",
    "    \n",
    "    g = (\n",
    "        gk.geometrize_shapes(shapes)\n",
    "        .merge(trips)\n",
    "        .filter([\"route_id\", \"direction_id\", \"geometry\"])\n",
    "        .groupby([\"route_id\", \"direction_id\"])\n",
    "        .apply(combine_shapes)\n",
    "        .reset_index()\n",
    "        .merge(routes)\n",
    "    )\n",
    "\n",
    "    return g\n",
    "    \n",
    "        "
   ]
  },
  {
   "cell_type": "code",
   "execution_count": null,
   "metadata": {},
   "outputs": [],
   "source": [
    "route_ids = feed.routes.route_id.values[:2]\n",
    "%time routes_g = geometrize_routes(feed)"
   ]
  },
  {
   "cell_type": "code",
   "execution_count": null,
   "metadata": {},
   "outputs": [],
   "source": [
    "routes_g.geometry.iat[0]"
   ]
  },
  {
   "cell_type": "code",
   "execution_count": null,
   "metadata": {},
   "outputs": [],
   "source": []
  },
  {
   "cell_type": "code",
   "execution_count": null,
   "metadata": {},
   "outputs": [],
   "source": [
    "# Slicing \n",
    "display(fts.loc[:, (\"num_trips\", slice(None))])\n",
    "display(fts.xs(\"num_trips\", axis=\"columns\"))"
   ]
  },
  {
   "cell_type": "code",
   "execution_count": null,
   "metadata": {},
   "outputs": [],
   "source": [
    "f = fts = feed.compute_feed_time_series(trip_stats, dates[:1], freq=\"12H\", split_route_types=False)\n",
    "display(f)\n",
    "g = gk.unstack_time_series(f)\n",
    "\n",
    "# columns = [c for c in g.columns if c not in [\"datetime\", \"value\"]]\n",
    "# h = g.pivot_table(index=\"datetime\", columns=columns).value.sort_index(\n",
    "#     axis=\"columns\"\n",
    "# )\n",
    "\n",
    "# hours = (h.index[1] - h.index[0]).components.hours\n",
    "# if hours != 0:\n",
    "#     freqy = f\"{hours}H\"\n",
    "# else:\n",
    "#     freqy = \"D\"\n",
    "\n",
    "# print(freqy)\n",
    "\n",
    "h = gk.restack_time_series(g)\n",
    "h"
   ]
  },
  {
   "cell_type": "code",
   "execution_count": null,
   "metadata": {},
   "outputs": [],
   "source": [
    "f.index"
   ]
  },
  {
   "cell_type": "code",
   "execution_count": null,
   "metadata": {},
   "outputs": [],
   "source": [
    "delta.components.hours"
   ]
  },
  {
   "cell_type": "code",
   "execution_count": null,
   "metadata": {},
   "outputs": [],
   "source": [
    "feed1 = feed.copy()\n",
    "cal = feed1.calendar.copy()\n",
    "cal[\"monday\"] = 0\n",
    "feed1.calendar = cal\n",
    "feed1.compute_feed_time_series(trip_stats, dates, freq=\"12H\")"
   ]
  },
  {
   "cell_type": "code",
   "execution_count": null,
   "metadata": {},
   "outputs": [],
   "source": [
    "s1 = pd.Series({\"hello\": 12, \"goodbye\": 13})\n",
    "s2 = s1.copy()\n",
    "pd.DataFrame([s1, s2])"
   ]
  },
  {
   "cell_type": "code",
   "execution_count": null,
   "metadata": {},
   "outputs": [],
   "source": [
    "feed.compute_stop_stats(['20140601', '20140603'])"
   ]
  },
  {
   "cell_type": "code",
   "execution_count": null,
   "metadata": {},
   "outputs": [],
   "source": [
    "trip_stats = feed.compute_trip_stats()\n",
    "feed = feed.append_dist_to_stop_times(trip_stats)\n",
    "\n",
    "# Load screen line\n",
    "with (DATA_DIR/'cairns_screen_line.geojson').open() as src:\n",
    "    line = json.load(src)\n",
    "    line = sg.shape(line['features'][0]['geometry'])\n",
    "\n"
   ]
  },
  {
   "cell_type": "code",
   "execution_count": null,
   "metadata": {},
   "outputs": [],
   "source": [
    "f = feed.compute_screen_line_counts(line, dates[:7])\n",
    "f[f['crossing_time'] < '06:00:00']"
   ]
  },
  {
   "cell_type": "code",
   "execution_count": null,
   "metadata": {},
   "outputs": [],
   "source": [
    "feed.compute_feed_time_series(ts, dates[-2:], freq='12H')"
   ]
  },
  {
   "cell_type": "code",
   "execution_count": null,
   "metadata": {},
   "outputs": [],
   "source": [
    "sd = False\n",
    "#%time p1 = proto1(feed, ts, dates[:14], split_directions=sd)\n",
    "%time p2 = proto2(feed, [dates[0], '20010101'], split_directions=sd, freq='12H')\n",
    "p2"
   ]
  },
  {
   "cell_type": "code",
   "execution_count": null,
   "metadata": {},
   "outputs": [],
   "source": [
    "feed.compute_feed_stats(ts, dates[0])"
   ]
  },
  {
   "cell_type": "code",
   "execution_count": null,
   "metadata": {},
   "outputs": [],
   "source": [
    "feed.describe()"
   ]
  },
  {
   "cell_type": "code",
   "execution_count": null,
   "metadata": {},
   "outputs": [],
   "source": [
    "feed.summarize()"
   ]
  },
  {
   "cell_type": "code",
   "execution_count": null,
   "metadata": {},
   "outputs": [],
   "source": []
  }
 ],
 "metadata": {
  "kernelspec": {
   "display_name": "Python 3",
   "language": "python",
   "name": "python3"
  },
  "language_info": {
   "codemirror_mode": {
    "name": "ipython",
    "version": 3
   },
   "file_extension": ".py",
   "mimetype": "text/x-python",
   "name": "python",
   "nbconvert_exporter": "python",
   "pygments_lexer": "ipython3",
   "version": "3.7.4"
  }
 },
 "nbformat": 4,
 "nbformat_minor": 1
}
