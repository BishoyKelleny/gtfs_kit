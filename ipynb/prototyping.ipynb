{
 "cells": [
  {
   "cell_type": "code",
   "execution_count": 1,
   "metadata": {},
   "outputs": [],
   "source": [
    "import datetime as dt\n",
    "from collections import OrderedDict\n",
    "import sys, os\n",
    "import dateutil.relativedelta as rd\n",
    "import json\n",
    "from pathlib import Path\n",
    "\n",
    "import utm\n",
    "import pandas as pd\n",
    "import numpy as np\n",
    "import shapely.geometry as sg\n",
    "import shapely.ops as so\n",
    "\n",
    "DIR = Path('..')\n",
    "sys.path.append(str(DIR))\n",
    "\n",
    "import gtfs_kit as gk\n",
    "\n",
    "%load_ext autoreload\n",
    "%autoreload 2\n",
    "\n",
    "DATA_DIR = DIR/'data'"
   ]
  },
  {
   "cell_type": "code",
   "execution_count": 2,
   "metadata": {},
   "outputs": [],
   "source": [
    "def embed_map(m):\n",
    "    \"\"\"\n",
    "    Workaround taken from https://github.com/python-visualization/folium/issues/812\n",
    "    for displaying Folium maps with lots of features in Chrome-based browsers.\n",
    "    \"\"\"\n",
    "    from IPython.display import IFrame\n",
    "\n",
    "    m.save('index.html')\n",
    "    return IFrame('index.html', width='100%', height='750px')"
   ]
  },
  {
   "cell_type": "code",
   "execution_count": 3,
   "metadata": {},
   "outputs": [],
   "source": [
    "path = DATA_DIR/'cairns_gtfs.zip'\n",
    "feed = gk.read_gtfs(path, dist_units='km')\n"
   ]
  },
  {
   "cell_type": "code",
   "execution_count": 12,
   "metadata": {},
   "outputs": [
    {
     "data": {
      "text/html": [
       "\n",
       "        <iframe\n",
       "            width=\"100%\"\n",
       "            height=\"750px\"\n",
       "            src=\"index.html\"\n",
       "            frameborder=\"0\"\n",
       "            allowfullscreen\n",
       "        ></iframe>\n",
       "        "
      ],
      "text/plain": [
       "<IPython.lib.display.IFrame at 0x7fa8b9a99250>"
      ]
     },
     "execution_count": 12,
     "metadata": {},
     "output_type": "execute_result"
    }
   ],
   "source": [
    "m = feed.map_trips(feed.trips.trip_id.iloc[:2], include_stops=False)\n",
    "embed_map(m)\n",
    "#feed.map_stops()"
   ]
  },
  {
   "cell_type": "code",
   "execution_count": null,
   "metadata": {},
   "outputs": [],
   "source": [
    "feed.geometrize_routes([\"bingo\"]).to_json()"
   ]
  },
  {
   "cell_type": "code",
   "execution_count": null,
   "metadata": {},
   "outputs": [],
   "source": []
  }
 ],
 "metadata": {
  "kernelspec": {
   "display_name": "Python 3",
   "language": "python",
   "name": "python3"
  },
  "language_info": {
   "codemirror_mode": {
    "name": "ipython",
    "version": 3
   },
   "file_extension": ".py",
   "mimetype": "text/x-python",
   "name": "python",
   "nbconvert_exporter": "python",
   "pygments_lexer": "ipython3",
   "version": "3.7.4"
  }
 },
 "nbformat": 4,
 "nbformat_minor": 1
}
